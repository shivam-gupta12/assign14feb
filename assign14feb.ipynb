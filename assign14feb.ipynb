{
 "cells": [
  {
   "cell_type": "code",
   "execution_count": 21,
   "id": "203c40e8-9a3b-4ad9-be20-18564a7e694d",
   "metadata": {},
   "outputs": [],
   "source": [
    "#question1\n",
    "\n",
    "# Multithreading refers to concurrently executing multiple threads by rapidly switching the control of the CPU between threads (called context switching).\n",
    "# Multithreading in Python enables CPUs to run different parts(threads) of a process concurrently to maximize CPU utilization. \n",
    "# Multithreading enables CPUs to run different parts(threads) of a process concurrently.\n",
    "# Threading Module in python allows us to perform Multithreading.\n"
   ]
  },
  {
   "cell_type": "code",
   "execution_count": 22,
   "id": "91a96a2a-a82a-40a3-8013-8446757d3a16",
   "metadata": {},
   "outputs": [],
   "source": [
    "#question 2\n",
    "\n",
    "# Python threading allows you to have different parts of your program run concurrently and can simplify your design.\n",
    "# threading.activeCount() − Returns the number of thread objects that are active.\n",
    "# threading.currentThread() − Returns the number of thread objects in the caller's thread control.\n",
    "# threading.enumerate() − Returns a list of all thread objects that are currently active."
   ]
  },
  {
   "cell_type": "code",
   "execution_count": 23,
   "id": "1f5f5c57-9234-4525-bac2-4ed0289cb888",
   "metadata": {},
   "outputs": [],
   "source": [
    "#question3\n",
    "\n",
    "# In addition to the methods, the threading module has the Thread class that implements threading. \n",
    "# The methods provided by the Thread class are as follows −\n",
    "# run() − The run() method is the entry point for a thread.\n",
    "# start() − The start() method starts a thread by calling the run method.\n",
    "# join([time]) − The join() waits for threads to terminate.\n",
    "# isAlive() − The isAlive() method checks whether a thread is still executing."
   ]
  },
  {
   "cell_type": "code",
   "execution_count": 25,
   "id": "03bf7388-25d5-4e36-86c1-0193904db542",
   "metadata": {},
   "outputs": [
    {
     "name": "stdin",
     "output_type": "stream",
     "text": [
      "Enter the number to which you want squares and cubes 10\n"
     ]
    },
    {
     "name": "stdout",
     "output_type": "stream",
     "text": [
      "[1, 4, 9, 16, 25, 36, 49, 64, 81, 100][1, 8, 27, 64, 125, 216, 343, 512, 729, 1000]\n",
      "\n"
     ]
    }
   ],
   "source": [
    "#question4\n",
    "\n",
    "import threading\n",
    "\n",
    "n = int(input(\"Enter the number to which you want squares and cubes\"))\n",
    "\n",
    "def squares(n):\n",
    "    l=[]\n",
    "    for i in range(1,11):\n",
    "        l.append(i**2)\n",
    "    print(l)\n",
    "    \n",
    "def cubes(n):\n",
    "    l=[]\n",
    "    for i in range(1,11):\n",
    "        l.append(i**3)\n",
    "    print(l)\n",
    "    \n",
    "thread1 = [threading.Thread(target = squares, args = (n,))]\n",
    "thread2 = [threading.Thread(target = cubes, args = (n,))]\n",
    "\n",
    "for t in thread1:\n",
    "    t.start()\n",
    "\n",
    "for t in thread2:\n",
    "    t.start()"
   ]
  },
  {
   "cell_type": "code",
   "execution_count": 19,
   "id": "ff88ddd8-bcbb-4c7a-91b4-d123198e5fb6",
   "metadata": {},
   "outputs": [],
   "source": [
    "#question5\n",
    "\n",
    "# Advantages of MultiThreading\n",
    "# Enhanced performance by decreased development time\n",
    "# Simplified and streamlined program coding\n",
    "# Improvised GUI responsiveness\n",
    "# Simultaneous and parallelized occurrence of tasks\n",
    "# Better use of cache storage by utilization of resources\n",
    "# Decreased cost of maintenance\n",
    "# Better use of CPU resource\n",
    "# Multithreading does not only provide you with benefits, it has its disadvantages too. Let us go through some common disadvantages:\n",
    "\n",
    "# Disadvantages of MultiThreading\n",
    "# Complex debugging and testing processes\n",
    "# Overhead switching of context\n",
    "# Increased potential for deadlock occurrence\n",
    "# Increased difficulty level in writing a program\n",
    "# Unpredictable results"
   ]
  },
  {
   "cell_type": "code",
   "execution_count": 20,
   "id": "7e323a93-455a-4634-ba40-aea817777a63",
   "metadata": {},
   "outputs": [],
   "source": [
    "#question6\n",
    "\n",
    "#deadlock and Raced Condition wrt to Threads\n",
    "\n",
    "#deadlock-- Two threads hold locks on different resources, each waiting indefinitely for the other to release its lock.\n",
    "#race condition-- Two (or more) threads alter the state of a shared resource concurrently, leaving it in an unpredictable state."
   ]
  },
  {
   "cell_type": "code",
   "execution_count": null,
   "id": "e367e34f-9620-43d0-ac97-d2d5e589a92e",
   "metadata": {},
   "outputs": [],
   "source": []
  }
 ],
 "metadata": {
  "kernelspec": {
   "display_name": "Python 3 (ipykernel)",
   "language": "python",
   "name": "python3"
  },
  "language_info": {
   "codemirror_mode": {
    "name": "ipython",
    "version": 3
   },
   "file_extension": ".py",
   "mimetype": "text/x-python",
   "name": "python",
   "nbconvert_exporter": "python",
   "pygments_lexer": "ipython3",
   "version": "3.10.8"
  }
 },
 "nbformat": 4,
 "nbformat_minor": 5
}
